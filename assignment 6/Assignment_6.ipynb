{
 "cells": [
  {
   "cell_type": "markdown",
   "metadata": {},
   "source": [
    "# Assignment 6: Deep Learning"
   ]
  },
  {
   "cell_type": "markdown",
   "metadata": {},
   "source": [
    "Let's build a **Siamese network model** for to detect duplicate questons. A Siamese network uses the same weights while working in tandem on two different input vectors to compute comparable output vectors. \n",
    "\n",
    "You'll need 'quora_duplicate_question_1000.csv' for this assignment. This dataset is in the following format\n",
    "\n",
    "|q1 | q2 |is_duplicate|\n",
    "|---|---|------|\n",
    "|How do you take a screenshot on a Mac laptop?|  How do I take a screenshot on my MacBook Pro? ...|   1 |\n",
    "|Is the US election rigged?|  Was the US election rigged?|   1 |\n",
    "|How scary is it to drive on the road to Hana g...|  Do I need a four-wheel-drive car to drive all ...\t|  0  |\n",
    "|...|...| ...|\n",
    "\n",
    "In this exercise, you'll feed a pair of q1 and q2 into a Siamese network to create representations of q1 and q2. Then based on the distance of the two representations, you determine if q1 and q2 are duplicate questions."
   ]
  },
  {
   "cell_type": "markdown",
   "metadata": {},
   "source": [
    "- Create a function **detect_duplicate( )** to detect sentiment as follows: \n",
    "  - the input parameter is the full filename path to quora_duplicate_question_1000.csv. Another optional parameter is a gensim word vector model.\n",
    "  - convert $q1$ and $q2$ into padded sequences of numbers (see Exercise 5.2) \n",
    "  - **hold 20% of the data for testing**\n",
    "  - **carefully select hyperparameters**,  in particular, input sentence length, filters, the number of filters, batch size, and epoch etc. \n",
    "  - create a CNN model with the training data. Some hints: \n",
    "    * Consider to use **pre-trained word vectors**, since your dataset is kind of small\n",
    "    * In your model, you use CNN to extract features from q1 and q2, denoted as q1_vector and q2_vector, and then predict if they are duplicates based on the distances of these features. This part can be implemented as follows:<br>\n",
    "    <i>from keras.layers import Lambda <br>\n",
    "    from keras import backend as K <br>\n",
    "    d = Lambda(lambda tensors:K.abs(tensors[0] - tensors[1]))([q1_vector, q2_vector]) (see https://keras.io/layers/core/#lambda)<br>\n",
    "    preds = Dense(1,activation='sigmoid', name='output')(d)</i>\n",
    "    * Your model may have a structure shown below. \n",
    "  - print out auc and auc curve from testing data. \n",
    "     - Your ** auc should be about 70%**. \n",
    "     - If your auc is lower than that (e.g. below 70%), you need to tune the hyperparameters\n",
    "- This function has no return. Besides your code, also provide a pdf document showing the following\n",
    "  - How you choose the hyperparameters \n",
    "  - model summary\n",
    "  - Screenshots of model trainning history \n",
    "  - Testing accuracy, precision, recall, and auc \n",
    "  - If you use pretrained word vectors, please describe which pretrained word vector you choose. You don't need to submit pretrained word vector files.\n"
   ]
  },
  {
   "cell_type": "markdown",
   "metadata": {},
   "source": [
    "Hint: Possible structure of model:\n",
    "<img src=\"model.png\" width=\"35%\">"
   ]
  },
  {
   "cell_type": "markdown",
   "metadata": {},
   "source": [
    "Where the cnn model is shown below:\n",
    "<img src=\"sub_model.png\" width=\"50%\">"
   ]
  },
  {
   "cell_type": "code",
   "execution_count": null,
   "metadata": {},
   "outputs": [],
   "source": [
    "from keras.models import Model\n",
    "# Add your import"
   ]
  },
  {
   "cell_type": "code",
   "execution_count": 2,
   "metadata": {},
   "outputs": [],
   "source": [
    "# This part of code can be copied from notes\n",
    "\n",
    "def cnn_model(FILTER_SIZES, \\\n",
    "              # filter sizes as a list\n",
    "              MAX_NB_WORDS, \\\n",
    "              # total number of words\n",
    "              MAX_DOC_LEN, \\\n",
    "              # max words in a doc\n",
    "              NAME = 'cnn',\\\n",
    "              EMBEDDING_DIM=200, \\\n",
    "              # word vector dimension\n",
    "              NUM_FILTERS=64, \\\n",
    "              # number of filters for all size\n",
    "              PRETRAINED_WORD_VECTOR=None):            \n",
    "    \n",
    "    main_input = Input(shape=(MAX_DOC_LEN,), \\\n",
    "                       dtype='int32', name='main_input')\n",
    "    \n",
    "    if PRETRAINED_WORD_VECTOR is not None:\n",
    "        embed_1 = Embedding(input_dim=MAX_NB_WORDS+1, \\\n",
    "                        output_dim=EMBEDDING_DIM, \\\n",
    "                        input_length=MAX_DOC_LEN, \\\n",
    "                        weights=[PRETRAINED_WORD_VECTOR],\\\n",
    "                        trainable=False,\\\n",
    "                        name='embedding')(main_input)\n",
    "    else:\n",
    "        embed_1 = Embedding(input_dim=MAX_NB_WORDS+1, \\\n",
    "                        output_dim=EMBEDDING_DIM, \\\n",
    "                        input_length=MAX_DOC_LEN, \\\n",
    "                        name='embedding')(main_input)\n",
    "    # add convolution-pooling-flat block\n",
    "    conv_blocks = []\n",
    "    for f in FILTER_SIZES:\n",
    "        conv = Conv1D(filters=NUM_FILTERS, kernel_size=f, \\\n",
    "                      activation='relu', name='conv_'+str(f))(embed_1)\n",
    "        conv = MaxPooling1D(MAX_DOC_LEN-f+1, name='max_'+str(f))(conv)\n",
    "        conv = Flatten(name='flat_'+str(f))(conv)\n",
    "        conv_blocks.append(conv)\n",
    "    \n",
    "    if len(conv_blocks)>1:\n",
    "        z=Concatenate(name='concate')(conv_blocks)\n",
    "    else:\n",
    "        z=conv_blocks[0]\n",
    "        \n",
    "    model = Model(name=NAME, inputs=main_input, outputs=z)\n",
    "    \n",
    "    return model"
   ]
  },
  {
   "cell_type": "code",
   "execution_count": 13,
   "metadata": {},
   "outputs": [],
   "source": [
    "def detect_duplicate(datafile, wv_model):\n",
    "    \n",
    "    # Add your code"
   ]
  },
  {
   "cell_type": "code",
   "execution_count": null,
   "metadata": {},
   "outputs": [],
   "source": [
    "wv_model = gensim.models.KeyedVectors.load_word2vec_format(\\\n",
    "                    '/Users/rliu/pyproject/genesis_backup/matching_net2/gensim_glove_vectors.txt', binary=False)\n",
    "    "
   ]
  },
  {
   "cell_type": "code",
   "execution_count": 14,
   "metadata": {},
   "outputs": [
    {
     "name": "stderr",
     "output_type": "stream",
     "text": [
      "/anaconda2/envs/py36/lib/python3.6/site-packages/ipykernel_launcher.py:58: DeprecationWarning: Call to deprecated `wv` (Attribute will be removed in 4.0.0, use self instead).\n",
      "/anaconda2/envs/py36/lib/python3.6/site-packages/ipykernel_launcher.py:59: DeprecationWarning: Call to deprecated `wv` (Attribute will be removed in 4.0.0, use self instead).\n"
     ]
    },
    {
     "name": "stdout",
     "output_type": "stream",
     "text": [
      "Overall Model:\n",
      "sub CNN model for left or right CNN:\n",
      "WARNING:tensorflow:From /anaconda2/envs/py36/lib/python3.6/site-packages/tensorflow/python/ops/nn_impl.py:180: add_dispatch_support.<locals>.wrapper (from tensorflow.python.ops.array_ops) is deprecated and will be removed in a future version.\n",
      "Instructions for updating:\n",
      "Use tf.where in 2.0, which has the same broadcast rule as np.where\n",
      "WARNING:tensorflow:From /anaconda2/envs/py36/lib/python3.6/site-packages/keras/backend/tensorflow_backend.py:422: The name tf.global_variables is deprecated. Please use tf.compat.v1.global_variables instead.\n",
      "\n",
      "Train on 800 samples, validate on 200 samples\n",
      "Epoch 1/100\n",
      " - 0s - loss: 0.6546 - accuracy: 0.6037 - val_loss: 0.6248 - val_accuracy: 0.6050\n",
      "\n",
      "Epoch 00001: val_accuracy improved from -inf to 0.60500, saving model to best_model\n",
      "Epoch 2/100\n",
      " - 0s - loss: 0.5116 - accuracy: 0.7613 - val_loss: 0.6067 - val_accuracy: 0.6300\n",
      "\n",
      "Epoch 00002: val_accuracy improved from 0.60500 to 0.63000, saving model to best_model\n",
      "Epoch 3/100\n",
      " - 0s - loss: 0.4452 - accuracy: 0.8388 - val_loss: 0.5988 - val_accuracy: 0.6350\n",
      "\n",
      "Epoch 00003: val_accuracy improved from 0.63000 to 0.63500, saving model to best_model\n",
      "Epoch 4/100\n",
      " - 0s - loss: 0.3900 - accuracy: 0.9225 - val_loss: 0.5931 - val_accuracy: 0.6400\n",
      "\n",
      "Epoch 00004: val_accuracy improved from 0.63500 to 0.64000, saving model to best_model\n",
      "Epoch 5/100\n",
      " - 0s - loss: 0.3416 - accuracy: 0.9613 - val_loss: 0.5893 - val_accuracy: 0.6350\n",
      "\n",
      "Epoch 00005: val_accuracy did not improve from 0.64000\n",
      "Epoch 6/100\n",
      " - 0s - loss: 0.2953 - accuracy: 0.9750 - val_loss: 0.5844 - val_accuracy: 0.6350\n",
      "\n",
      "Epoch 00006: val_accuracy did not improve from 0.64000\n",
      "Epoch 7/100\n",
      " - 0s - loss: 0.2537 - accuracy: 0.9862 - val_loss: 0.5824 - val_accuracy: 0.6400\n",
      "\n",
      "Epoch 00007: val_accuracy did not improve from 0.64000\n",
      "Epoch 8/100\n",
      " - 0s - loss: 0.2184 - accuracy: 0.9887 - val_loss: 0.5783 - val_accuracy: 0.6300\n",
      "\n",
      "Epoch 00008: val_accuracy did not improve from 0.64000\n",
      "Epoch 9/100\n",
      " - 0s - loss: 0.1872 - accuracy: 0.9912 - val_loss: 0.5762 - val_accuracy: 0.6200\n",
      "\n",
      "Epoch 00009: val_accuracy did not improve from 0.64000\n",
      "Epoch 10/100\n",
      " - 0s - loss: 0.1603 - accuracy: 0.9925 - val_loss: 0.5736 - val_accuracy: 0.6350\n",
      "\n",
      "Epoch 00010: val_accuracy did not improve from 0.64000\n",
      "Epoch 11/100\n",
      " - 0s - loss: 0.1370 - accuracy: 0.9950 - val_loss: 0.5743 - val_accuracy: 0.6250\n",
      "\n",
      "Epoch 00011: val_accuracy did not improve from 0.64000\n",
      "Epoch 12/100\n",
      " - 0s - loss: 0.1188 - accuracy: 0.9950 - val_loss: 0.5739 - val_accuracy: 0.6350\n",
      "\n",
      "Epoch 00012: val_accuracy did not improve from 0.64000\n",
      "Epoch 13/100\n",
      " - 0s - loss: 0.1028 - accuracy: 0.9950 - val_loss: 0.5728 - val_accuracy: 0.6500\n",
      "\n",
      "Epoch 00013: val_accuracy improved from 0.64000 to 0.65000, saving model to best_model\n",
      "Epoch 14/100\n",
      " - 0s - loss: 0.0894 - accuracy: 0.9950 - val_loss: 0.5753 - val_accuracy: 0.6500\n",
      "\n",
      "Epoch 00014: val_accuracy did not improve from 0.65000\n",
      "Epoch 15/100\n",
      " - 0s - loss: 0.0790 - accuracy: 0.9950 - val_loss: 0.5760 - val_accuracy: 0.6650\n",
      "\n",
      "Epoch 00015: val_accuracy improved from 0.65000 to 0.66500, saving model to best_model\n",
      "Epoch 16/100\n",
      " - 0s - loss: 0.0695 - accuracy: 0.9950 - val_loss: 0.5779 - val_accuracy: 0.6650\n",
      "\n",
      "Epoch 00016: val_accuracy did not improve from 0.66500\n",
      "Epoch 17/100\n",
      " - 0s - loss: 0.0618 - accuracy: 0.9950 - val_loss: 0.5787 - val_accuracy: 0.6600\n",
      "\n",
      "Epoch 00017: val_accuracy did not improve from 0.66500\n",
      "Epoch 18/100\n",
      " - 0s - loss: 0.0553 - accuracy: 0.9950 - val_loss: 0.5792 - val_accuracy: 0.6600\n",
      "\n",
      "Epoch 00018: val_accuracy did not improve from 0.66500\n",
      "Epoch 19/100\n",
      " - 0s - loss: 0.0498 - accuracy: 0.9950 - val_loss: 0.5809 - val_accuracy: 0.6550\n",
      "\n",
      "Epoch 00019: val_accuracy did not improve from 0.66500\n",
      "Epoch 20/100\n",
      " - 0s - loss: 0.0451 - accuracy: 0.9950 - val_loss: 0.5844 - val_accuracy: 0.6550\n",
      "\n",
      "Epoch 00020: val_accuracy did not improve from 0.66500\n",
      "Epoch 21/100\n",
      " - 0s - loss: 0.0409 - accuracy: 0.9950 - val_loss: 0.5843 - val_accuracy: 0.6550\n",
      "\n",
      "Epoch 00021: val_accuracy did not improve from 0.66500\n",
      "Epoch 22/100\n",
      " - 0s - loss: 0.0374 - accuracy: 0.9950 - val_loss: 0.5851 - val_accuracy: 0.6550\n",
      "\n",
      "Epoch 00022: val_accuracy did not improve from 0.66500\n",
      "Epoch 23/100\n",
      " - 0s - loss: 0.0343 - accuracy: 0.9950 - val_loss: 0.5862 - val_accuracy: 0.6550\n",
      "\n",
      "Epoch 00023: val_accuracy did not improve from 0.66500\n",
      "Epoch 00023: early stopping\n",
      "auc: 0.76625\n"
     ]
    },
    {
     "data": {
      "image/png": "[encoded data removed]",
      "text/plain": [
       "<Figure size 432x288 with 1 Axes>"
      ]
     },
     "metadata": {
      "needs_background": "light"
     },
     "output_type": "display_data"
    }
   ],
   "source": [
    "\n",
    "if __name__ == \"__main__\":  \n",
    "    \n",
    "    detect_duplicate(\"../../dataset/quora_duplicate_question_1000.csv\", wv_model)\n",
    "\n"
   ]
  },
  {
   "cell_type": "code",
   "execution_count": null,
   "metadata": {},
   "outputs": [],
   "source": []
  }
 ],
 "metadata": {
  "kernelspec": {
   "display_name": "Python 3",
   "language": "python",
   "name": "python3"
  },
  "language_info": {
   "codemirror_mode": {
    "name": "ipython",
    "version": 3
   },
   "file_extension": ".py",
   "mimetype": "text/x-python",
   "name": "python",
   "nbconvert_exporter": "python",
   "pygments_lexer": "ipython3",
   "version": "3.6.9"
  }
 },
 "nbformat": 4,
 "nbformat_minor": 2
}
