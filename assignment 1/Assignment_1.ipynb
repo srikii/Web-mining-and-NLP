{
 "cells": [
  {
   "cell_type": "markdown",
   "metadata": {},
   "source": [
    "# Assignment 1: Python Basics"
   ]
  },
  {
   "cell_type": "markdown",
   "metadata": {},
   "source": [
    "## Q1. Document Term Matrix\n",
    "1. Define a function called <b>compute_dtm</b> as follows:\n",
    "   * Take a list of documents, say <b>$docs$</b> as a parameter\n",
    "   * Tokenize each document into <b>lower-cased words without any leading and trailing punctuations</b> (Hint: you can refer to the solution to the Review Exercise at the end of Python_II lecture notes)\n",
    "   * Let $words$ denote the list of unique words in $docs$\n",
    "   * Compute $dtm$ (i.e. <b>document-term matrix</b>), which is a 2-dimensional array created from the documents as follows:\n",
    "       * Each row (say $i$ ) represents a document\n",
    "       * Each column (say $j$) represents a unique word in $words$\n",
    "       * Each cell $(i,j)$ is the count of word $j$ in document $i$. Fill 0 if word $j$ does not appear in document $i$\n",
    "   * Return $dtm$ and $words$. \n"
   ]
  },
  {
   "cell_type": "markdown",
   "metadata": {},
   "source": [
    "## Q2. Performance Analysis\n",
    "\n",
    "1. Suppose your machine learning model returns a one-dimensional array of probabilities as the output. Write a function \"performance_analysis\" to do the following:\n",
    "    - Take three input parameters: probability array, ground-truth label array, and a <b>threshold</b> $th$\n",
    "    - If a <b>probability > $th$, the prediction is positive; otherwise, negative</b>\n",
    "    - Compare the predictions with the ground truth labels to calculate the <b>confusion matrix</b> as shown in the figure, where:\n",
    "    <img src=\"confusion.png\" width=\"50%\">\n",
    "        * True Positives (<b>TP</b>): the number of correct positive predictions\n",
    "        * False Positives (<b>FP</b>): the number of postive predictives which actually are negatives\n",
    "        * True Negatives (<b>TN</b>): the number of correct negative predictions\n",
    "        * False Negatives (<b>FN</b>): the number of negative predictives which actually are positives\n",
    "    - Calculate <b>precision</b> as $TP/(TP+FP)$ and <b>recall</b> as $TP/(TP+FN)$\n",
    "    - Return the confusion matrix, precision, and recall\n",
    "2. Call this function with $th$ set to 0.5, print out confusion matrix, precision, and recall\n",
    "3. Call this function with $th$ varying from 0.05 to 1 with an increase of 0.05. Plot a line chart to see how precision and recall change by $th$. Observe how precision and recall change by $th$."
   ]
  },
  {
   "cell_type": "markdown",
   "metadata": {},
   "source": [
    "## Q3 (Bonus): Class \n",
    "1. Define a function called DTM as follows:\n",
    "     * A list of documents, say $docs$, is passed to inialize a DTM object. The \\_\\_init\\_\\_ function creates two attributes:\n",
    "        - an attribute called $words$, which saves a list of unique words in the documents\n",
    "        - an attribute called $dtm$, which saves the document-term matrix returned by calling the function defined in Q1.\n",
    "     * This class contains two methods:\n",
    "        - $max\\_word\\_freq()$: returns the word with the <b>maximum total count</b> in the entire corpus. \n",
    "        - $max\\_word\\_df()$: returns the word with the <b>largest document frequency</b>, i.e. appear in the most of the documents. "
   ]
  },
  {
   "cell_type": "markdown",
   "metadata": {},
   "source": [
    "Note: \n",
    "* <b>Do not use any text mining package like NLTK or sklearn in this assignment</b>. You only need basic packages such as numpy and pandas\n",
    "* Try to apply array broadcasting whenever it is possible."
   ]
  },
  {
   "cell_type": "markdown",
   "metadata": {},
   "source": [
    "## Submission Guideline##\n",
    "- Following the solution template provided below. Use __main__ block to test your functions and class\n",
    "- Save your code into a python file (e.g. assign1.py) that can be run in a python 3 environment. In Jupyter Notebook, you can export notebook as .py file in menu \"File->Download as\".\n",
    "- Make sure you have all import statements. To test your code, open a command window in your current python working folder, type \"python assign1.py\" to see if it can run successfully.\n",
    "- For more details, check assignment submission guideline on Canvas"
   ]
  },
  {
   "cell_type": "code",
   "execution_count": 1,
   "metadata": {
    "collapsed": true
   },
   "outputs": [],
   "source": [
    "import numpy as np\n",
    "import pandas as pd\n",
    "import string\n",
    "from matplotlib import pyplot as plt\n"
   ]
  },
  {
   "cell_type": "code",
   "execution_count": 6,
   "metadata": {
    "collapsed": true
   },
   "outputs": [],
   "source": [
    "# Q1\n",
    "\n",
    "def compute_dtm(docs):\n",
    "    dtm = None\n",
    "    \n",
    "    # add your code here\n",
    "            \n",
    "    return dtm, words\n"
   ]
  },
  {
   "cell_type": "code",
   "execution_count": 3,
   "metadata": {
    "collapsed": true
   },
   "outputs": [],
   "source": [
    "#Q2\n",
    "def evaluate_performance(prob, truth, th):\n",
    "    \n",
    "    conf, prec, rec = None, None, None\n",
    "    \n",
    "    return conf, prec, rec"
   ]
  },
  {
   "cell_type": "code",
   "execution_count": 4,
   "metadata": {
    "collapsed": true
   },
   "outputs": [],
   "source": [
    "# Q3\n",
    "\n",
    "class DTM(object):\n",
    "    \n",
    "    # add your code here"
   ]
  },
  {
   "cell_type": "code",
   "execution_count": 10,
   "metadata": {},
   "outputs": [
    {
     "name": "stdout",
     "output_type": "stream",
     "text": [
      "['search', 'messi', 'strings', 'and', 'in', 'eaten', 'tasty', 'can', 'be', 'are', 'computer', 'fruit', 'match', 'we', 'computers', 'not', 'they', 'you', 'but', 'ronaldo', 'whether', 'or', 'two', 'understand', 'football', 'do', 'when', 'tell', 'make', 'is', 'a', 'about', 'apple', 'sure', 'how', 'for', 'same', 'company', 'that']\n",
      "(3, 39)\n",
      "[[0. 0. 1. 1. 0. 0. 0. 1. 0. 1. 1. 0. 1. 0. 0. 1. 1. 1. 0. 0. 1. 1. 1. 0.\n",
      "  0. 0. 0. 1. 0. 0. 1. 0. 0. 1. 0. 0. 1. 0. 0.]\n",
      " [1. 1. 0. 0. 0. 0. 0. 0. 0. 0. 0. 0. 0. 1. 1. 0. 0. 2. 1. 1. 0. 1. 0. 0.\n",
      "  1. 1. 1. 1. 1. 0. 0. 1. 0. 0. 1. 1. 0. 0. 0.]\n",
      " [0. 0. 0. 1. 1. 1. 1. 1. 1. 0. 1. 2. 0. 0. 0. 1. 0. 1. 0. 0. 0. 0. 0. 1.\n",
      "  0. 1. 0. 0. 1. 2. 4. 0. 2. 0. 1. 0. 0. 1. 2.]]\n",
      "\n",
      "Q2:\n",
      "truth   0   1\n",
      "pred         \n",
      "0      37   2\n",
      "1       1  10\n",
      "0.9090909090909091 0.8333333333333334\n"
     ]
    },
    {
     "data": {
      "image/png": "[encoded data removed]",
      "text/plain": [
       "<matplotlib.figure.Figure at 0x1189e4160>"
      ]
     },
     "metadata": {},
     "output_type": "display_data"
    },
    {
     "name": "stdout",
     "output_type": "stream",
     "text": [
      "\n",
      "Q3:\n",
      "Word with the maximum total count:  a\n",
      "Word with the most frequent document frequency:  you\n"
     ]
    }
   ],
   "source": [
    "# best practice to test your class\n",
    "# if your script is exported as a module,\n",
    "# the following part is ignored\n",
    "# this is equivalent to main() in Java\n",
    "\n",
    "if __name__ == \"__main__\":  \n",
    "    \n",
    "    # Test Question 1\n",
    "    docs = ['Sure, a computer can match two strings and tell you whether they are same or not.', \n",
    "            'But how do we make computers tell you about football or Ronaldo when you search for Messi?', \n",
    "            'How do you make a computer understand that \"Apple\" in \"Apple\" is a tasty fruit\" is a fruit that can be eaten and not a company?']\n",
    "    \n",
    "    dtm, words = compute_dtm(docs)\n",
    "    print(words)\n",
    "    print(dtm.shape)\n",
    "    print(dtm)\n",
    "    \n",
    "    # Test Question 2  \n",
    "    prob =np.array([0.28997326, 0.10166073, 0.10759583, 0.0694934 , 0.6767239 ,\n",
    "       0.01446897, 0.15268748, 0.15570522, 0.12159665, 0.22593857,\n",
    "       0.98162019, 0.47418329, 0.09376987, 0.80440782, 0.88361167,\n",
    "       0.21579844, 0.72343069, 0.06605903, 0.15447797, 0.10967575,\n",
    "       0.93020135, 0.06570391, 0.05283854, 0.09668829, 0.05974545,\n",
    "       0.04874688, 0.07562255, 0.11103822, 0.71674525, 0.08507381,\n",
    "       0.630128  , 0.16447478, 0.16914903, 0.1715767 , 0.08040751,\n",
    "       0.7001173 , 0.04428363, 0.19469664, 0.12247959, 0.14000294,\n",
    "       0.02411263, 0.26276603, 0.11377073, 0.07055441, 0.2021157 ,\n",
    "       0.11636899, 0.90348488, 0.10191679, 0.88744523, 0.18938904])\n",
    "\n",
    "    truth = np.array([1, 0, 0, 0, 1, 0, 0, 0, 0, 0, 1, 1, 0, 1, 1, 0, 1, 0, 0, 0, 1, 0,\n",
    "       0, 0, 0, 0, 0, 0, 1, 0, 1, 0, 0, 0, 0, 0, 0, 0, 0, 0, 0, 0, 0, 0,\n",
    "       0, 0, 1, 0, 1, 0])\n",
    "    \n",
    "    # test the function with threshold 0.5\n",
    "    print(\"\\nQ2:\")\n",
    "    th = 0.5\n",
    "    conf, prec, rec = evaluate_performance(prob, truth, th)\n",
    "    print(conf)\n",
    "    print(prec, rec)\n",
    "    \n",
    "    # add code to print the line chart\n",
    "    \n",
    "    # Test Question 3\n",
    "    docs_dtm = DTM(docs)\n",
    "    \n",
    "    print(\"\\nQ3:\")\n",
    "    print(\"Word with the maximum total count: \", docs_dtm.max_word_freq())\n",
    "    print(\"Word with the most frequent document frequency: \", docs_dtm.max_word_df())"
   ]
  },
  {
   "cell_type": "code",
   "execution_count": null,
   "metadata": {
    "collapsed": true
   },
   "outputs": [],
   "source": []
  }
 ],
 "metadata": {
  "kernelspec": {
   "display_name": "Python 3",
   "language": "python",
   "name": "python3"
  },
  "language_info": {
   "codemirror_mode": {
    "name": "ipython",
    "version": 3
   },
   "file_extension": ".py",
   "mimetype": "text/x-python",
   "name": "python",
   "nbconvert_exporter": "python",
   "pygments_lexer": "ipython3",
   "version": "3.6.2"
  }
 },
 "nbformat": 4,
 "nbformat_minor": 2
}
